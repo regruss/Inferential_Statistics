{
 "cells": [
  {
   "cell_type": "markdown",
   "metadata": {},
   "source": [
    "# What is the True Normal Human Body Temperature? \n",
    "\n",
    "#### Background\n",
    "\n",
    "The mean normal body temperature was held to be 37$^{\\circ}$C or 98.6$^{\\circ}$F for more than 120 years since it was first conceptualized and reported by Carl Wunderlich in a famous 1868 book. But, is this value statistically correct?"
   ]
  },
  {
   "cell_type": "markdown",
   "metadata": {},
   "source": [
    "<h3>Exercises</h3>\n",
    "\n",
    "<p>In this exercise, you will analyze a dataset of human body temperatures and employ the concepts of hypothesis testing, confidence intervals, and statistical significance.</p>\n",
    "\n",
    "<p>Answer the following questions <b>in this notebook below and submit to your Github account</b>.</p> \n",
    "\n",
    "<ol>\n",
    "<li>  Is the distribution of body temperatures normal? \n",
    "    <ul>\n",
    "    <li> Although this is not a requirement for the Central Limit Theorem to hold (read the introduction on Wikipedia's page about the CLT carefully: https://en.wikipedia.org/wiki/Central_limit_theorem), it gives us some peace of mind that the population may also be normally distributed if we assume that this sample is representative of the population.\n",
    "    <li> Think about the way you're going to check for the normality of the distribution. Graphical methods are usually used first, but there are also other ways: https://en.wikipedia.org/wiki/Normality_test\n",
    "    </ul>\n",
    "<li>  Is the sample size large? Are the observations independent?\n",
    "    <ul>\n",
    "    <li> Remember that this is a condition for the Central Limit Theorem, and hence the statistical tests we are using, to apply.\n",
    "    </ul>\n",
    "<li>  Is the true population mean really 98.6 degrees F?\n",
    "    <ul>\n",
    "    <li> First, try a bootstrap hypothesis test.\n",
    "    <li> Now, let's try frequentist statistical testing. Would you use a one-sample or two-sample test? Why?\n",
    "    <li> In this situation, is it appropriate to use the $t$ or $z$ statistic? \n",
    "    <li> Now try using the other test. How is the result be different? Why?\n",
    "    </ul>\n",
    "<li>  Draw a small sample of size 10 from the data and repeat both frequentist tests. \n",
    "    <ul>\n",
    "    <li> Which one is the correct one to use? \n",
    "    <li> What do you notice? What does this tell you about the difference in application of the $t$ and $z$ statistic?\n",
    "    </ul>\n",
    "<li>  At what temperature should we consider someone's temperature to be \"abnormal\"?\n",
    "    <ul>\n",
    "    <li> As in the previous example, try calculating everything using the boostrap approach, as well as the frequentist approach.\n",
    "    <li> Start by computing the margin of error and confidence interval. When calculating the confidence interval, keep in mind that you should use the appropriate formula for one draw, and not N draws.\n",
    "    </ul>\n",
    "<li>  Is there a significant difference between males and females in normal temperature?\n",
    "    <ul>\n",
    "    <li> What testing approach did you use and why?\n",
    "    <li> Write a story with your conclusion in the context of the original problem.\n",
    "    </ul>\n",
    "</ol>\n",
    "\n",
    "You can include written notes in notebook cells using Markdown: \n",
    "   - In the control panel at the top, choose Cell > Cell Type > Markdown\n",
    "   - Markdown syntax: http://nestacms.com/docs/creating-content/markdown-cheat-sheet\n",
    "\n",
    "#### Resources\n",
    "\n",
    "+ Information and data sources: http://www.amstat.org/publications/jse/datasets/normtemp.txt, http://www.amstat.org/publications/jse/jse_data_archive.htm\n",
    "+ Markdown syntax: http://nestacms.com/docs/creating-content/markdown-cheat-sheet\n",
    "\n",
    "****"
   ]
  },
  {
   "cell_type": "code",
   "execution_count": 2,
   "metadata": {},
   "outputs": [],
   "source": [
    "import pandas as pd\n",
    "import numpy as np\n",
    "import scipy.stats as si\n",
    "import sympy as sy\n",
    "import csv\n",
    "import matplotlib.pyplot as plt\n",
    "import seaborn as sns\n",
    "%matplotlib inline\n",
    "from IPython.display import display\n",
    "pd.options.display.max_columns = None\n",
    "\n",
    "df = pd.read_csv('human_body_temperature.csv')"
   ]
  },
  {
   "cell_type": "code",
   "execution_count": 3,
   "metadata": {},
   "outputs": [
    {
     "data": {
      "text/plain": [
       "Index(['temperature', 'gender', 'heart_rate'], dtype='object')"
      ]
     },
     "execution_count": 3,
     "metadata": {},
     "output_type": "execute_result"
    }
   ],
   "source": [
    "df.columns"
   ]
  },
  {
   "cell_type": "markdown",
   "metadata": {},
   "source": [
    "Question 1: Is the distribution of body temperatures normal?\n",
    "\n",
    "The CDF from the body temp data matches very closely with the normal distribution with same mean and std. Therefore, I feel comfortable assuming a normal disribution."
   ]
  },
  {
   "cell_type": "code",
   "execution_count": 4,
   "metadata": {},
   "outputs": [
    {
     "data": {
      "text/plain": [
       "(array([ 2.,  3.,  5.,  9.,  9., 23., 18., 22., 20., 11.,  5.,  0.,  2.,\n",
       "         0.,  1.]),\n",
       " array([ 96.3,  96.6,  96.9,  97.2,  97.5,  97.8,  98.1,  98.4,  98.7,\n",
       "         99. ,  99.3,  99.6,  99.9, 100.2, 100.5, 100.8]),\n",
       " <a list of 15 Patch objects>)"
      ]
     },
     "execution_count": 4,
     "metadata": {},
     "output_type": "execute_result"
    },
    {
     "data": {
      "image/png": "[encoded data removed]",
      "text/plain": [
       "<Figure size 432x288 with 1 Axes>"
      ]
     },
     "metadata": {},
     "output_type": "display_data"
    }
   ],
   "source": [
    "sns.set()\n",
    "plt.hist(df['temperature'],bins=15)"
   ]
  },
  {
   "cell_type": "code",
   "execution_count": 5,
   "metadata": {},
   "outputs": [],
   "source": [
    "#Calculate mean and st dev of body temp\n",
    "temp_mean = np.mean(df['temperature'])\n",
    "temp_std = np.std(df['temperature'])\n",
    "#Generate samples from a normal distribution with same mean and std as body temp data\n",
    "sim_temp_norm = np.random.normal(temp_mean,temp_std,100000)"
   ]
  },
  {
   "cell_type": "code",
   "execution_count": 6,
   "metadata": {},
   "outputs": [],
   "source": [
    "#Create Function to calculate the Empirical Cumulative Distribution Function\n",
    "def ecdf(data):\n",
    "    \"\"\"Compute ECDF for a one-dimensional array of measurements.\"\"\" \n",
    "    # Number of data points: n    \n",
    "    n = len(data)   \n",
    "    # x-data for the ECDF: x    \n",
    "    x = np.sort(data)    \n",
    "    # y-data for the ECDF: y   \n",
    "    y = np.arange(1, n+1) / n   \n",
    "    return x, y"
   ]
  },
  {
   "cell_type": "code",
   "execution_count": 15,
   "metadata": {},
   "outputs": [
    {
     "data": {
      "image/png": "[encoded data removed]",
      "text/plain": [
       "<Figure size 432x288 with 1 Axes>"
      ]
     },
     "metadata": {},
     "output_type": "display_data"
    }
   ],
   "source": [
    "#Create Empirical CDF of body temp and simulated normal dist body temps\n",
    "x,y = ecdf(df['temperature'])\n",
    "x_sim,y_sim = ecdf(sim_temp_norm)\n",
    "#Plot CDF's together to check if normal dist is a good fit\n",
    "sns.set()\n",
    "plt.plot(x,y, marker='.', linestyle='none',markersize=3)\n",
    "plt.plot(x_sim,y_sim, marker='.', linestyle='none',markersize=.25)\n",
    "plt.show()\n",
    "#The CDF from the body temp data matches very closely with the \n",
    "#normal distribution with same mean and std"
   ]
  },
  {
   "cell_type": "markdown",
   "metadata": {},
   "source": [
    "Question 2: Is the sample size large? Are the observations independent? \n",
    "\n",
    "The sample size is >30, and therefore meets the criteria for the CLT.\n",
    "No information was given about how the sample was taken so I have no way of determining if the observations are independent.\n",
    "If this is a random sample, independence of the observations is safe to assume. "
   ]
  },
  {
   "cell_type": "markdown",
   "metadata": {},
   "source": [
    "Question 3: Is the true population mean really 98.6 degrees F? First, try a bootstrap hypothesis test.\n",
    "\n",
    "H_o = Average body temperature is equal to 98.6 degrees F.\n",
    "H_a = Average body temperature is not equal to 98.6 degrees F.\n",
    "Assuming the null hypothesis is true, we can take the observed difference (mean(data)-98.6) and compare it to boostrap samples of mean differences to formulate a p-value"
   ]
  },
  {
   "cell_type": "code",
   "execution_count": 75,
   "metadata": {},
   "outputs": [
    {
     "data": {
      "text/plain": [
       "0.0"
      ]
     },
     "execution_count": 75,
     "metadata": {},
     "output_type": "execute_result"
    }
   ],
   "source": [
    "#Observed difference\n",
    "diff_obs = temp_mean - 98.6\n",
    "# Make an array of translated body temps\n",
    "translated_temps = df['temperature'] - temp_mean + 98.6\n",
    "\n",
    "#Function to bootstrap 1 sample, of the same size, from data\n",
    "def bootstrap_replicate_1d(data, func,args):\n",
    "    return func(np.random.choice(data, size=len(data)), args)\n",
    "\n",
    "#Function to calculate diff for each bootstrap sample\n",
    "def diff_mean(data,null_val=98.6):\n",
    "    return np.mean(data) - null_val\n",
    "\n",
    "#Function to generate n bootstrap samples and get diff of mean and 98.6\n",
    "def draw_bs_reps(data, func, args, size=1):    \n",
    "    \"\"\"Draw bootstrap replicates.\"\"\"    \n",
    "    # Initialize array of replicates: bs_replicates    \n",
    "    bs_replicates = np.empty(size)    \n",
    "    # Generate replicates    \n",
    "    for i in range(size):        \n",
    "        bs_replicates[i] = bootstrap_replicate_1d(data, func, args)    \n",
    "    return bs_replicates\n",
    "#Calculate boostrap diffs using translated samples\n",
    "bs_temp_diff = draw_bs_reps(translated_temps,diff_mean,0,10000)\n",
    "p_val = np.sum(bs_temp_diff <= diff_obs)/10000\n",
    "p_val"
   ]
  },
  {
   "cell_type": "markdown",
   "metadata": {},
   "source": [
    "The p-value is very low indicating that there is significant difference between the mean of the body\n",
    "temp data (98.25) and the hypothesized mean (98.6). Therefore we reject the null hypothesis."
   ]
  },
  {
   "cell_type": "markdown",
   "metadata": {},
   "source": [
    "Now, let's try frequentist statistical testing. Would you use a one-sample or two-sample test? Why? \n",
    "\n",
    "I would use a one-sample test because we only have one sample. When comparing the difference between two different populations we would then use a two-sample test."
   ]
  },
  {
   "cell_type": "code",
   "execution_count": null,
   "metadata": {},
   "outputs": [],
   "source": [
    "#For the frequentist statistical test, we will test Pr((98.6 - mean(data))/sterror(data) <= t <= (mean(data)-98.6)/sterror(data))\n",
    "#Using a p-value of .05\n",
    "t = (temp_mean-98.6)/(temp_std/np.sqrt(len(df)))\n",
    "t\n",
    "#Pr(t<= -5.48)*2 for two sided test is: p-value is <.001, therefore we reject the null."
   ]
  },
  {
   "cell_type": "markdown",
   "metadata": {},
   "source": [
    "In this situation, is it appropriate to use the t or z statistic? \n",
    "The z test is used when we know the true population mean and variance. In this case, we are testing to see if 98.6\n",
    "could be the actual mean given the available data."
   ]
  },
  {
   "cell_type": "markdown",
   "metadata": {},
   "source": [
    "Now try using the other test. How is the result different? Why\n",
    "The result differs with the difference between the value of z and t in there respective lookup tables"
   ]
  },
  {
   "cell_type": "code",
   "execution_count": null,
   "metadata": {},
   "outputs": [],
   "source": [
    "z = (temp_mean-98.6)/(temp_std/np.sqrt(len(df)))\n",
    "z\n",
    "#Pr(t<= -.48)*2 for two sided test is: p-value is .003."
   ]
  },
  {
   "cell_type": "markdown",
   "metadata": {},
   "source": [
    "Question 4: Draw a small sample of size 10 from the data and repeat both frequentist tests. \n",
    "Which one is the correct one to use? \n",
    "What do you notice? What does this tell you about the difference in application of the t and z statistic?"
   ]
  },
  {
   "cell_type": "code",
   "execution_count": null,
   "metadata": {},
   "outputs": [],
   "source": [
    "np.random.seed(1)\n",
    "smpl = np.random.choice(df['temperature'],size=10)\n",
    "smpl_mean = np.mean(smpl)\n",
    "smpl_std = np.std(smpl)"
   ]
  },
  {
   "cell_type": "code",
   "execution_count": null,
   "metadata": {},
   "outputs": [],
   "source": [
    "t = (smpl_mean-98.6)/(smpl_std/np.sqrt(len(smpl)))\n",
    "t\n",
    "#p-value is between .01 and .02"
   ]
  },
  {
   "cell_type": "code",
   "execution_count": null,
   "metadata": {},
   "outputs": [],
   "source": [
    "z = (smpl_mean-98.6)/(smpl_std/np.sqrt(len(smpl)))\n",
    "z\n",
    "#p-value is .012"
   ]
  },
  {
   "cell_type": "markdown",
   "metadata": {},
   "source": [
    "Question 5: At what temperature should we consider someone's temperature to be \"abnormal\"? \n",
    "As in the previous example, try calculating everything using the boostrap approach, as well as the frequentist approach. \n",
    "Start by computing the margin of error and confidence interval. When calculating the confidence interval, keep in mind that you should use the appropriate formula for one draw, and not N draws. \n",
    "\n",
    "Using Bootstrap sampling, an abnormal temperature could be considered one that is as extreme or more than 95% of body temperatures, i.e. a body temperature that falls outside a 95% confidence interval. Body temperatures outside of the interval [96.77, 99.58] would considered be \"abnormal\"."
   ]
  },
  {
   "cell_type": "code",
   "execution_count": 126,
   "metadata": {},
   "outputs": [
    {
     "data": {
      "text/plain": [
       "[96.76678425, 99.583425]"
      ]
     },
     "execution_count": 126,
     "metadata": {},
     "output_type": "execute_result"
    }
   ],
   "source": [
    "#function to calculate percentile for each bootstrap sample\n",
    "def bs_percentile(data,percentile):\n",
    "    return np.percentile(data,percentile)\n",
    "\n",
    "bs_up_temp = draw_bs_reps(df['temperature'],bs_percentile,97.5,10000)\n",
    "bs_low_temp = draw_bs_reps(df['temperature'],bs_percentile,2.5,10000)\n",
    "[np.mean(bs_low_temp),np.mean(bs_up_temp)]"
   ]
  },
  {
   "cell_type": "markdown",
   "metadata": {},
   "source": [
    "Frequentist approach:"
   ]
  },
  {
   "cell_type": "code",
   "execution_count": 128,
   "metadata": {},
   "outputs": [
    {
     "data": {
      "text/plain": [
       "[96.81643589360849, 99.67618170351233]"
      ]
     },
     "execution_count": 128,
     "metadata": {},
     "output_type": "execute_result"
    }
   ],
   "source": [
    "[np.percentile(sim_temp_norm,2.5),np.percentile(sim_temp_norm,97.5)]"
   ]
  },
  {
   "cell_type": "code",
   "execution_count": null,
   "metadata": {},
   "outputs": [],
   "source": []
  },
  {
   "cell_type": "code",
   "execution_count": null,
   "metadata": {},
   "outputs": [],
   "source": []
  },
  {
   "cell_type": "code",
   "execution_count": null,
   "metadata": {},
   "outputs": [],
   "source": []
  },
  {
   "cell_type": "code",
   "execution_count": null,
   "metadata": {},
   "outputs": [],
   "source": []
  },
  {
   "cell_type": "code",
   "execution_count": null,
   "metadata": {},
   "outputs": [],
   "source": []
  }
 ],
 "metadata": {
  "kernelspec": {
   "display_name": "Python 3",
   "language": "python",
   "name": "python3"
  },
  "language_info": {
   "codemirror_mode": {
    "name": "ipython",
    "version": 3
   },
   "file_extension": ".py",
   "mimetype": "text/x-python",
   "name": "python",
   "nbconvert_exporter": "python",
   "pygments_lexer": "ipython3",
   "version": "3.6.5"
  }
 },
 "nbformat": 4,
 "nbformat_minor": 1
}
