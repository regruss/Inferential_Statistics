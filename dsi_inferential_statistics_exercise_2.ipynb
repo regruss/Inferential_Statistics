{
 "cells": [
  {
   "cell_type": "markdown",
   "metadata": {},
   "source": [
    "# Examining Racial Discrimination in the US Job Market\n",
    "\n",
    "### Background\n",
    "Racial discrimination continues to be pervasive in cultures throughout the world. Researchers examined the level of racial discrimination in the United States labor market by randomly assigning identical résumés to black-sounding or white-sounding names and observing the impact on requests for interviews from employers.\n",
    "\n",
    "### Data\n",
    "In the dataset provided, each row represents a resume. The 'race' column has two values, 'b' and 'w', indicating black-sounding and white-sounding. The column 'call' has two values, 1 and 0, indicating whether the resume received a call from employers or not.\n",
    "\n",
    "Note that the 'b' and 'w' values in race are assigned randomly to the resumes when presented to the employer."
   ]
  },
  {
   "cell_type": "markdown",
   "metadata": {},
   "source": [
    "### Exercises\n",
    "You will perform a statistical analysis to establish whether race has a significant impact on the rate of callbacks for resumes.\n",
    "\n",
    "Answer the following questions **in this notebook below and submit to your Github account**. \n",
    "\n",
    "   1. What test is appropriate for this problem? Does CLT apply?\n",
    "   2. What are the null and alternate hypotheses?\n",
    "   3. Compute margin of error, confidence interval, and p-value. Try using both the bootstrapping and the frequentist statistical approaches.\n",
    "   4. Write a story describing the statistical significance in the context or the original problem.\n",
    "   5. Does your analysis mean that race/name is the most important factor in callback success? Why or why not? If not, how would you amend your analysis?\n",
    "\n",
    "You can include written notes in notebook cells using Markdown: \n",
    "   - In the control panel at the top, choose Cell > Cell Type > Markdown\n",
    "   - Markdown syntax: http://nestacms.com/docs/creating-content/markdown-cheat-sheet\n",
    "\n",
    "#### Resources\n",
    "+ Experiment information and data source: http://www.povertyactionlab.org/evaluation/discrimination-job-market-united-states\n",
    "+ Scipy statistical methods: http://docs.scipy.org/doc/scipy/reference/stats.html \n",
    "+ Markdown syntax: http://nestacms.com/docs/creating-content/markdown-cheat-sheet\n",
    "+ Formulas for the Bernoulli distribution: https://en.wikipedia.org/wiki/Bernoulli_distribution"
   ]
  },
  {
   "cell_type": "code",
   "execution_count": 1,
   "metadata": {},
   "outputs": [],
   "source": [
    "from scipy import stats\n",
    "import pandas as pd\n",
    "import numpy as np\n",
    "import scipy.stats as si\n",
    "import sympy as sy\n",
    "import csv\n",
    "import matplotlib.pyplot as plt\n",
    "import seaborn as sns\n",
    "%matplotlib inline\n",
    "from IPython.display import display\n",
    "pd.options.display.max_columns = None"
   ]
  },
  {
   "cell_type": "code",
   "execution_count": 2,
   "metadata": {},
   "outputs": [],
   "source": [
    "data = pd.io.stata.read_stata('us_job_market_discrimination.dta')"
   ]
  },
  {
   "cell_type": "code",
   "execution_count": 8,
   "metadata": {},
   "outputs": [
    {
     "data": {
      "text/plain": [
       "235.0"
      ]
     },
     "execution_count": 8,
     "metadata": {},
     "output_type": "execute_result"
    }
   ],
   "source": [
    "# number of callbacks for black-sounding names\n",
    "sum(data[data.race=='b'].call)"
   ]
  },
  {
   "cell_type": "code",
   "execution_count": 4,
   "metadata": {},
   "outputs": [
    {
     "data": {
      "text/plain": [
       "4870"
      ]
     },
     "execution_count": 4,
     "metadata": {},
     "output_type": "execute_result"
    }
   ],
   "source": [
    "len(data)"
   ]
  },
  {
   "cell_type": "code",
   "execution_count": 6,
   "metadata": {},
   "outputs": [
    {
     "data": {
      "text/html": [
       "<div>\n",
       "<style scoped>\n",
       "    .dataframe tbody tr th:only-of-type {\n",
       "        vertical-align: middle;\n",
       "    }\n",
       "\n",
       "    .dataframe tbody tr th {\n",
       "        vertical-align: top;\n",
       "    }\n",
       "\n",
       "    .dataframe thead th {\n",
       "        text-align: right;\n",
       "    }\n",
       "</style>\n",
       "<table border=\"1\" class=\"dataframe\">\n",
       "  <thead>\n",
       "    <tr style=\"text-align: right;\">\n",
       "      <th></th>\n",
       "      <th>id</th>\n",
       "      <th>ad</th>\n",
       "      <th>education</th>\n",
       "      <th>ofjobs</th>\n",
       "      <th>yearsexp</th>\n",
       "      <th>honors</th>\n",
       "      <th>volunteer</th>\n",
       "      <th>military</th>\n",
       "      <th>empholes</th>\n",
       "      <th>occupspecific</th>\n",
       "      <th>occupbroad</th>\n",
       "      <th>workinschool</th>\n",
       "      <th>email</th>\n",
       "      <th>computerskills</th>\n",
       "      <th>specialskills</th>\n",
       "      <th>firstname</th>\n",
       "      <th>sex</th>\n",
       "      <th>race</th>\n",
       "      <th>h</th>\n",
       "      <th>l</th>\n",
       "      <th>call</th>\n",
       "      <th>city</th>\n",
       "      <th>kind</th>\n",
       "      <th>adid</th>\n",
       "      <th>fracblack</th>\n",
       "      <th>fracwhite</th>\n",
       "      <th>lmedhhinc</th>\n",
       "      <th>fracdropout</th>\n",
       "      <th>fraccolp</th>\n",
       "      <th>linc</th>\n",
       "      <th>col</th>\n",
       "      <th>expminreq</th>\n",
       "      <th>schoolreq</th>\n",
       "      <th>eoe</th>\n",
       "      <th>parent_sales</th>\n",
       "      <th>parent_emp</th>\n",
       "      <th>branch_sales</th>\n",
       "      <th>branch_emp</th>\n",
       "      <th>fed</th>\n",
       "      <th>fracblack_empzip</th>\n",
       "      <th>fracwhite_empzip</th>\n",
       "      <th>lmedhhinc_empzip</th>\n",
       "      <th>fracdropout_empzip</th>\n",
       "      <th>fraccolp_empzip</th>\n",
       "      <th>linc_empzip</th>\n",
       "      <th>manager</th>\n",
       "      <th>supervisor</th>\n",
       "      <th>secretary</th>\n",
       "      <th>offsupport</th>\n",
       "      <th>salesrep</th>\n",
       "      <th>retailsales</th>\n",
       "      <th>req</th>\n",
       "      <th>expreq</th>\n",
       "      <th>comreq</th>\n",
       "      <th>educreq</th>\n",
       "      <th>compreq</th>\n",
       "      <th>orgreq</th>\n",
       "      <th>manuf</th>\n",
       "      <th>transcom</th>\n",
       "      <th>bankreal</th>\n",
       "      <th>trade</th>\n",
       "      <th>busservice</th>\n",
       "      <th>othservice</th>\n",
       "      <th>missind</th>\n",
       "      <th>ownership</th>\n",
       "    </tr>\n",
       "  </thead>\n",
       "  <tbody>\n",
       "    <tr>\n",
       "      <th>0</th>\n",
       "      <td>b</td>\n",
       "      <td>1</td>\n",
       "      <td>4</td>\n",
       "      <td>2</td>\n",
       "      <td>6</td>\n",
       "      <td>0</td>\n",
       "      <td>0</td>\n",
       "      <td>0</td>\n",
       "      <td>1</td>\n",
       "      <td>17</td>\n",
       "      <td>1</td>\n",
       "      <td>0</td>\n",
       "      <td>0</td>\n",
       "      <td>1</td>\n",
       "      <td>0</td>\n",
       "      <td>Allison</td>\n",
       "      <td>f</td>\n",
       "      <td>w</td>\n",
       "      <td>0.0</td>\n",
       "      <td>1.0</td>\n",
       "      <td>0.0</td>\n",
       "      <td>c</td>\n",
       "      <td>a</td>\n",
       "      <td>384.0</td>\n",
       "      <td>0.989360</td>\n",
       "      <td>0.005500</td>\n",
       "      <td>9.527484</td>\n",
       "      <td>0.274151</td>\n",
       "      <td>0.037662</td>\n",
       "      <td>8.706325</td>\n",
       "      <td>1.0</td>\n",
       "      <td>5</td>\n",
       "      <td></td>\n",
       "      <td>1.0</td>\n",
       "      <td>NaN</td>\n",
       "      <td>NaN</td>\n",
       "      <td>NaN</td>\n",
       "      <td>NaN</td>\n",
       "      <td>NaN</td>\n",
       "      <td>NaN</td>\n",
       "      <td>NaN</td>\n",
       "      <td>NaN</td>\n",
       "      <td>NaN</td>\n",
       "      <td>NaN</td>\n",
       "      <td>NaN</td>\n",
       "      <td>0.0</td>\n",
       "      <td>1.0</td>\n",
       "      <td>0.0</td>\n",
       "      <td>0.0</td>\n",
       "      <td>0.0</td>\n",
       "      <td>0.0</td>\n",
       "      <td>1.0</td>\n",
       "      <td>1.0</td>\n",
       "      <td>0.0</td>\n",
       "      <td>0.0</td>\n",
       "      <td>1.0</td>\n",
       "      <td>0.0</td>\n",
       "      <td>1.0</td>\n",
       "      <td>0.0</td>\n",
       "      <td>0.0</td>\n",
       "      <td>0.0</td>\n",
       "      <td>0.0</td>\n",
       "      <td>0.0</td>\n",
       "      <td>0.0</td>\n",
       "      <td></td>\n",
       "    </tr>\n",
       "    <tr>\n",
       "      <th>1</th>\n",
       "      <td>b</td>\n",
       "      <td>1</td>\n",
       "      <td>3</td>\n",
       "      <td>3</td>\n",
       "      <td>6</td>\n",
       "      <td>0</td>\n",
       "      <td>1</td>\n",
       "      <td>1</td>\n",
       "      <td>0</td>\n",
       "      <td>316</td>\n",
       "      <td>6</td>\n",
       "      <td>1</td>\n",
       "      <td>1</td>\n",
       "      <td>1</td>\n",
       "      <td>0</td>\n",
       "      <td>Kristen</td>\n",
       "      <td>f</td>\n",
       "      <td>w</td>\n",
       "      <td>1.0</td>\n",
       "      <td>0.0</td>\n",
       "      <td>0.0</td>\n",
       "      <td>c</td>\n",
       "      <td>a</td>\n",
       "      <td>384.0</td>\n",
       "      <td>0.080736</td>\n",
       "      <td>0.888374</td>\n",
       "      <td>10.408828</td>\n",
       "      <td>0.233687</td>\n",
       "      <td>0.087285</td>\n",
       "      <td>9.532859</td>\n",
       "      <td>0.0</td>\n",
       "      <td>5</td>\n",
       "      <td></td>\n",
       "      <td>1.0</td>\n",
       "      <td>NaN</td>\n",
       "      <td>NaN</td>\n",
       "      <td>NaN</td>\n",
       "      <td>NaN</td>\n",
       "      <td>NaN</td>\n",
       "      <td>NaN</td>\n",
       "      <td>NaN</td>\n",
       "      <td>NaN</td>\n",
       "      <td>NaN</td>\n",
       "      <td>NaN</td>\n",
       "      <td>NaN</td>\n",
       "      <td>0.0</td>\n",
       "      <td>1.0</td>\n",
       "      <td>0.0</td>\n",
       "      <td>0.0</td>\n",
       "      <td>0.0</td>\n",
       "      <td>0.0</td>\n",
       "      <td>1.0</td>\n",
       "      <td>1.0</td>\n",
       "      <td>0.0</td>\n",
       "      <td>0.0</td>\n",
       "      <td>1.0</td>\n",
       "      <td>0.0</td>\n",
       "      <td>1.0</td>\n",
       "      <td>0.0</td>\n",
       "      <td>0.0</td>\n",
       "      <td>0.0</td>\n",
       "      <td>0.0</td>\n",
       "      <td>0.0</td>\n",
       "      <td>0.0</td>\n",
       "      <td></td>\n",
       "    </tr>\n",
       "    <tr>\n",
       "      <th>2</th>\n",
       "      <td>b</td>\n",
       "      <td>1</td>\n",
       "      <td>4</td>\n",
       "      <td>1</td>\n",
       "      <td>6</td>\n",
       "      <td>0</td>\n",
       "      <td>0</td>\n",
       "      <td>0</td>\n",
       "      <td>0</td>\n",
       "      <td>19</td>\n",
       "      <td>1</td>\n",
       "      <td>1</td>\n",
       "      <td>0</td>\n",
       "      <td>1</td>\n",
       "      <td>0</td>\n",
       "      <td>Lakisha</td>\n",
       "      <td>f</td>\n",
       "      <td>b</td>\n",
       "      <td>0.0</td>\n",
       "      <td>1.0</td>\n",
       "      <td>0.0</td>\n",
       "      <td>c</td>\n",
       "      <td>a</td>\n",
       "      <td>384.0</td>\n",
       "      <td>0.104301</td>\n",
       "      <td>0.837370</td>\n",
       "      <td>10.466754</td>\n",
       "      <td>0.101335</td>\n",
       "      <td>0.591695</td>\n",
       "      <td>10.540329</td>\n",
       "      <td>1.0</td>\n",
       "      <td>5</td>\n",
       "      <td></td>\n",
       "      <td>1.0</td>\n",
       "      <td>NaN</td>\n",
       "      <td>NaN</td>\n",
       "      <td>NaN</td>\n",
       "      <td>NaN</td>\n",
       "      <td>NaN</td>\n",
       "      <td>NaN</td>\n",
       "      <td>NaN</td>\n",
       "      <td>NaN</td>\n",
       "      <td>NaN</td>\n",
       "      <td>NaN</td>\n",
       "      <td>NaN</td>\n",
       "      <td>0.0</td>\n",
       "      <td>1.0</td>\n",
       "      <td>0.0</td>\n",
       "      <td>0.0</td>\n",
       "      <td>0.0</td>\n",
       "      <td>0.0</td>\n",
       "      <td>1.0</td>\n",
       "      <td>1.0</td>\n",
       "      <td>0.0</td>\n",
       "      <td>0.0</td>\n",
       "      <td>1.0</td>\n",
       "      <td>0.0</td>\n",
       "      <td>1.0</td>\n",
       "      <td>0.0</td>\n",
       "      <td>0.0</td>\n",
       "      <td>0.0</td>\n",
       "      <td>0.0</td>\n",
       "      <td>0.0</td>\n",
       "      <td>0.0</td>\n",
       "      <td></td>\n",
       "    </tr>\n",
       "    <tr>\n",
       "      <th>3</th>\n",
       "      <td>b</td>\n",
       "      <td>1</td>\n",
       "      <td>3</td>\n",
       "      <td>4</td>\n",
       "      <td>6</td>\n",
       "      <td>0</td>\n",
       "      <td>1</td>\n",
       "      <td>0</td>\n",
       "      <td>1</td>\n",
       "      <td>313</td>\n",
       "      <td>5</td>\n",
       "      <td>0</td>\n",
       "      <td>1</td>\n",
       "      <td>1</td>\n",
       "      <td>1</td>\n",
       "      <td>Latonya</td>\n",
       "      <td>f</td>\n",
       "      <td>b</td>\n",
       "      <td>1.0</td>\n",
       "      <td>0.0</td>\n",
       "      <td>0.0</td>\n",
       "      <td>c</td>\n",
       "      <td>a</td>\n",
       "      <td>384.0</td>\n",
       "      <td>0.336165</td>\n",
       "      <td>0.637370</td>\n",
       "      <td>10.431908</td>\n",
       "      <td>0.108848</td>\n",
       "      <td>0.406576</td>\n",
       "      <td>10.412141</td>\n",
       "      <td>0.0</td>\n",
       "      <td>5</td>\n",
       "      <td></td>\n",
       "      <td>1.0</td>\n",
       "      <td>NaN</td>\n",
       "      <td>NaN</td>\n",
       "      <td>NaN</td>\n",
       "      <td>NaN</td>\n",
       "      <td>NaN</td>\n",
       "      <td>NaN</td>\n",
       "      <td>NaN</td>\n",
       "      <td>NaN</td>\n",
       "      <td>NaN</td>\n",
       "      <td>NaN</td>\n",
       "      <td>NaN</td>\n",
       "      <td>0.0</td>\n",
       "      <td>1.0</td>\n",
       "      <td>0.0</td>\n",
       "      <td>0.0</td>\n",
       "      <td>0.0</td>\n",
       "      <td>0.0</td>\n",
       "      <td>1.0</td>\n",
       "      <td>1.0</td>\n",
       "      <td>0.0</td>\n",
       "      <td>0.0</td>\n",
       "      <td>1.0</td>\n",
       "      <td>0.0</td>\n",
       "      <td>1.0</td>\n",
       "      <td>0.0</td>\n",
       "      <td>0.0</td>\n",
       "      <td>0.0</td>\n",
       "      <td>0.0</td>\n",
       "      <td>0.0</td>\n",
       "      <td>0.0</td>\n",
       "      <td></td>\n",
       "    </tr>\n",
       "    <tr>\n",
       "      <th>4</th>\n",
       "      <td>b</td>\n",
       "      <td>1</td>\n",
       "      <td>3</td>\n",
       "      <td>3</td>\n",
       "      <td>22</td>\n",
       "      <td>0</td>\n",
       "      <td>0</td>\n",
       "      <td>0</td>\n",
       "      <td>0</td>\n",
       "      <td>313</td>\n",
       "      <td>5</td>\n",
       "      <td>1</td>\n",
       "      <td>1</td>\n",
       "      <td>1</td>\n",
       "      <td>0</td>\n",
       "      <td>Carrie</td>\n",
       "      <td>f</td>\n",
       "      <td>w</td>\n",
       "      <td>1.0</td>\n",
       "      <td>0.0</td>\n",
       "      <td>0.0</td>\n",
       "      <td>c</td>\n",
       "      <td>a</td>\n",
       "      <td>385.0</td>\n",
       "      <td>0.397595</td>\n",
       "      <td>0.180196</td>\n",
       "      <td>9.876219</td>\n",
       "      <td>0.312873</td>\n",
       "      <td>0.030847</td>\n",
       "      <td>8.728264</td>\n",
       "      <td>0.0</td>\n",
       "      <td>some</td>\n",
       "      <td></td>\n",
       "      <td>1.0</td>\n",
       "      <td>9.4</td>\n",
       "      <td>143.0</td>\n",
       "      <td>9.4</td>\n",
       "      <td>143.0</td>\n",
       "      <td>0.0</td>\n",
       "      <td>0.204764</td>\n",
       "      <td>0.727046</td>\n",
       "      <td>10.619399</td>\n",
       "      <td>0.070493</td>\n",
       "      <td>0.369903</td>\n",
       "      <td>10.007352</td>\n",
       "      <td>0.0</td>\n",
       "      <td>0.0</td>\n",
       "      <td>1.0</td>\n",
       "      <td>0.0</td>\n",
       "      <td>0.0</td>\n",
       "      <td>0.0</td>\n",
       "      <td>1.0</td>\n",
       "      <td>1.0</td>\n",
       "      <td>0.0</td>\n",
       "      <td>0.0</td>\n",
       "      <td>1.0</td>\n",
       "      <td>1.0</td>\n",
       "      <td>0.0</td>\n",
       "      <td>0.0</td>\n",
       "      <td>0.0</td>\n",
       "      <td>0.0</td>\n",
       "      <td>0.0</td>\n",
       "      <td>1.0</td>\n",
       "      <td>0.0</td>\n",
       "      <td>Nonprofit</td>\n",
       "    </tr>\n",
       "  </tbody>\n",
       "</table>\n",
       "</div>"
      ],
      "text/plain": [
       "  id ad  education  ofjobs  yearsexp  honors  volunteer  military  empholes  \\\n",
       "0  b  1          4       2         6       0          0         0         1   \n",
       "1  b  1          3       3         6       0          1         1         0   \n",
       "2  b  1          4       1         6       0          0         0         0   \n",
       "3  b  1          3       4         6       0          1         0         1   \n",
       "4  b  1          3       3        22       0          0         0         0   \n",
       "\n",
       "   occupspecific  occupbroad  workinschool  email  computerskills  \\\n",
       "0             17           1             0      0               1   \n",
       "1            316           6             1      1               1   \n",
       "2             19           1             1      0               1   \n",
       "3            313           5             0      1               1   \n",
       "4            313           5             1      1               1   \n",
       "\n",
       "   specialskills firstname sex race    h    l  call city kind   adid  \\\n",
       "0              0   Allison   f    w  0.0  1.0   0.0    c    a  384.0   \n",
       "1              0   Kristen   f    w  1.0  0.0   0.0    c    a  384.0   \n",
       "2              0   Lakisha   f    b  0.0  1.0   0.0    c    a  384.0   \n",
       "3              1   Latonya   f    b  1.0  0.0   0.0    c    a  384.0   \n",
       "4              0    Carrie   f    w  1.0  0.0   0.0    c    a  385.0   \n",
       "\n",
       "   fracblack  fracwhite  lmedhhinc  fracdropout  fraccolp       linc  col  \\\n",
       "0   0.989360   0.005500   9.527484     0.274151  0.037662   8.706325  1.0   \n",
       "1   0.080736   0.888374  10.408828     0.233687  0.087285   9.532859  0.0   \n",
       "2   0.104301   0.837370  10.466754     0.101335  0.591695  10.540329  1.0   \n",
       "3   0.336165   0.637370  10.431908     0.108848  0.406576  10.412141  0.0   \n",
       "4   0.397595   0.180196   9.876219     0.312873  0.030847   8.728264  0.0   \n",
       "\n",
       "  expminreq schoolreq  eoe  parent_sales  parent_emp  branch_sales  \\\n",
       "0         5            1.0           NaN         NaN           NaN   \n",
       "1         5            1.0           NaN         NaN           NaN   \n",
       "2         5            1.0           NaN         NaN           NaN   \n",
       "3         5            1.0           NaN         NaN           NaN   \n",
       "4      some            1.0           9.4       143.0           9.4   \n",
       "\n",
       "   branch_emp  fed  fracblack_empzip  fracwhite_empzip  lmedhhinc_empzip  \\\n",
       "0         NaN  NaN               NaN               NaN               NaN   \n",
       "1         NaN  NaN               NaN               NaN               NaN   \n",
       "2         NaN  NaN               NaN               NaN               NaN   \n",
       "3         NaN  NaN               NaN               NaN               NaN   \n",
       "4       143.0  0.0          0.204764          0.727046         10.619399   \n",
       "\n",
       "   fracdropout_empzip  fraccolp_empzip  linc_empzip  manager  supervisor  \\\n",
       "0                 NaN              NaN          NaN      0.0         1.0   \n",
       "1                 NaN              NaN          NaN      0.0         1.0   \n",
       "2                 NaN              NaN          NaN      0.0         1.0   \n",
       "3                 NaN              NaN          NaN      0.0         1.0   \n",
       "4            0.070493         0.369903    10.007352      0.0         0.0   \n",
       "\n",
       "   secretary  offsupport  salesrep  retailsales  req  expreq  comreq  educreq  \\\n",
       "0        0.0         0.0       0.0          0.0  1.0     1.0     0.0      0.0   \n",
       "1        0.0         0.0       0.0          0.0  1.0     1.0     0.0      0.0   \n",
       "2        0.0         0.0       0.0          0.0  1.0     1.0     0.0      0.0   \n",
       "3        0.0         0.0       0.0          0.0  1.0     1.0     0.0      0.0   \n",
       "4        1.0         0.0       0.0          0.0  1.0     1.0     0.0      0.0   \n",
       "\n",
       "   compreq  orgreq  manuf  transcom  bankreal  trade  busservice  othservice  \\\n",
       "0      1.0     0.0    1.0       0.0       0.0    0.0         0.0         0.0   \n",
       "1      1.0     0.0    1.0       0.0       0.0    0.0         0.0         0.0   \n",
       "2      1.0     0.0    1.0       0.0       0.0    0.0         0.0         0.0   \n",
       "3      1.0     0.0    1.0       0.0       0.0    0.0         0.0         0.0   \n",
       "4      1.0     1.0    0.0       0.0       0.0    0.0         0.0         1.0   \n",
       "\n",
       "   missind  ownership  \n",
       "0      0.0             \n",
       "1      0.0             \n",
       "2      0.0             \n",
       "3      0.0             \n",
       "4      0.0  Nonprofit  "
      ]
     },
     "execution_count": 6,
     "metadata": {},
     "output_type": "execute_result"
    }
   ],
   "source": [
    "data.head()"
   ]
  },
  {
   "cell_type": "code",
   "execution_count": 4,
   "metadata": {},
   "outputs": [],
   "source": [
    "p_b = np.mean(data[data.race=='b'].call)\n",
    "p_w = np.mean(data[data.race=='w'].call)"
   ]
  },
  {
   "cell_type": "code",
   "execution_count": 5,
   "metadata": {},
   "outputs": [
    {
     "data": {
      "text/plain": [
       "156.99999921023846"
      ]
     },
     "execution_count": 5,
     "metadata": {},
     "output_type": "execute_result"
    }
   ],
   "source": [
    "s_b = p_b*len(data[data.race=='b'])\n",
    "s_b"
   ]
  },
  {
   "cell_type": "code",
   "execution_count": 7,
   "metadata": {},
   "outputs": [
    {
     "data": {
      "text/plain": [
       "2278.0000007897615"
      ]
     },
     "execution_count": 7,
     "metadata": {},
     "output_type": "execute_result"
    }
   ],
   "source": [
    "(1-p_b)*len(data[data.race=='b'])"
   ]
  },
  {
   "cell_type": "code",
   "execution_count": 6,
   "metadata": {},
   "outputs": [
    {
     "data": {
      "text/plain": [
       "235.00000078231096"
      ]
     },
     "execution_count": 6,
     "metadata": {},
     "output_type": "execute_result"
    }
   ],
   "source": [
    "s_w = p_w*len(data[data.race=='w'])\n",
    "s_w"
   ]
  },
  {
   "cell_type": "code",
   "execution_count": 8,
   "metadata": {},
   "outputs": [
    {
     "data": {
      "text/plain": [
       "2199.999999217689"
      ]
     },
     "execution_count": 8,
     "metadata": {},
     "output_type": "execute_result"
    }
   ],
   "source": [
    "(1-p_w)*len(data[data.race=='w'])"
   ]
  },
  {
   "cell_type": "markdown",
   "metadata": {
    "collapsed": true
   },
   "source": [
    "<div class=\"span5 alert alert-success\">\n",
    "<p>I suggest using a two-sample comparison of callback rates. For the CLT to apply, we need to fulfill the following requirements:</p>\n",
    "<p>1. Sample must be random</p>\n",
    "<p>2. np >= 10 and n(1-p) >= 10</p>\n",
    "<p>3. Observations must be independent</p>\n",
    "<p>Yes, the CLT applies.</p>\n",
    "<p>The null and alternative hypothesis are:</p>\n",
    "<p>n_o: P_w - P_b <= 0</p>\n",
    "<p>n_a: P_w - P_b > 0</p>\n",
    "</div>"
   ]
  },
  {
   "cell_type": "code",
   "execution_count": 10,
   "metadata": {},
   "outputs": [],
   "source": [
    "w = data[data.race=='w']\n",
    "b = data[data.race=='b']"
   ]
  },
  {
   "cell_type": "code",
   "execution_count": 23,
   "metadata": {},
   "outputs": [
    {
     "data": {
      "text/plain": [
       "(4.1084122352740975, 1.9919427044450048e-05)"
      ]
     },
     "execution_count": 23,
     "metadata": {},
     "output_type": "execute_result"
    }
   ],
   "source": [
    "import statsmodels.stats.api as sm\n",
    "results = sm.proportions_ztest([s_w,s_b],[len(w),len(b)],alternative='larger')\n",
    "results\n",
    "#A two-sided test on the difference in proportions results in a z-score of 4.11 and a p-value < .001, therefore we\n",
    "#reject the null hpothesis."
   ]
  },
  {
   "cell_type": "code",
   "execution_count": 18,
   "metadata": {},
   "outputs": [
    {
     "data": {
      "text/plain": [
       "0.015255406348684322"
      ]
     },
     "execution_count": 18,
     "metadata": {},
     "output_type": "execute_result"
    }
   ],
   "source": [
    "#calculate margin of error and confidence interval for 95% level\n",
    "p_diff = p_w-p_b\n",
    "std_err = np.sqrt((p_w*(1-p_w)/len(w))+(p_b*(1-p_b)/len(b)))\n",
    "marg_err = 1.96*std_err\n",
    "marg_err"
   ]
  },
  {
   "cell_type": "code",
   "execution_count": 20,
   "metadata": {},
   "outputs": [
    {
     "data": {
      "text/plain": [
       "[0.016777448506376254, 0.0472882612037449]"
      ]
     },
     "execution_count": 20,
     "metadata": {},
     "output_type": "execute_result"
    }
   ],
   "source": [
    "conf_int = [p_diff-marg_err,p_diff+marg_err]\n",
    "conf_int"
   ]
  },
  {
   "cell_type": "markdown",
   "metadata": {},
   "source": [
    "<div class=\"span5 alert alert-success\">\n",
    "<p> If race were not a factor in determining a callback from a resume submission then we would expect to see no difference between the proportion of call backs on white named resumes and black named resumes. Given the difference we observed, and at the 95% confidence level, call back rates for resumes with white sounding names are significantly higher than for resumes with black sounding names.</p>\n",
    "<p>This test says nothing about the most significant factors for receiving a call back. This test attempted to eliminate all other factors and isolate the impact race has with relation to call back rates. If we wanted to look at the most significant factors for receiving a call back, we might want to compare resumes that are not the same, so as to compare other factors like years of experience vs. education.</p>\n",
    "</div>"
   ]
  },
  {
   "cell_type": "code",
   "execution_count": 21,
   "metadata": {},
   "outputs": [
    {
     "data": {
      "text/plain": [
       "0.09650924056768417"
      ]
     },
     "execution_count": 21,
     "metadata": {},
     "output_type": "execute_result"
    }
   ],
   "source": [
    "p_w"
   ]
  },
  {
   "cell_type": "code",
   "execution_count": 22,
   "metadata": {},
   "outputs": [
    {
     "data": {
      "text/plain": [
       "0.0644763857126236"
      ]
     },
     "execution_count": 22,
     "metadata": {},
     "output_type": "execute_result"
    }
   ],
   "source": [
    "p_b"
   ]
  }
 ],
 "metadata": {
  "kernelspec": {
   "display_name": "Python 3",
   "language": "python",
   "name": "python3"
  },
  "language_info": {
   "codemirror_mode": {
    "name": "ipython",
    "version": 3
   },
   "file_extension": ".py",
   "mimetype": "text/x-python",
   "name": "python",
   "nbconvert_exporter": "python",
   "pygments_lexer": "ipython3",
   "version": "3.6.5"
  }
 },
 "nbformat": 4,
 "nbformat_minor": 1
}
